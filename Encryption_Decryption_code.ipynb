{
  "nbformat": 4,
  "nbformat_minor": 0,
  "metadata": {
    "colab": {
      "provenance": [],
      "authorship_tag": "ABX9TyPwZb6m+qFboFrp9AE1Ar2a",
      "include_colab_link": true
    },
    "kernelspec": {
      "name": "python3",
      "display_name": "Python 3"
    },
    "language_info": {
      "name": "python"
    }
  },
  "cells": [
    {
      "cell_type": "markdown",
      "metadata": {
        "id": "view-in-github",
        "colab_type": "text"
      },
      "source": [
        "<a href=\"https://colab.research.google.com/github/theMandalorian-001/encrypt-decrypt/blob/main/Encryption_Decryption_code.ipynb\" target=\"_parent\"><img src=\"https://colab.research.google.com/assets/colab-badge.svg\" alt=\"Open In Colab\"/></a>"
      ]
    },
    {
      "cell_type": "code",
      "execution_count": null,
      "metadata": {
        "colab": {
          "base_uri": "https://localhost:8080/"
        },
        "id": "JKvyh769Ri7e",
        "outputId": "6b2fc484-1a30-4199-aac8-44accda9cb9a"
      },
      "outputs": [
        {
          "output_type": "stream",
          "name": "stdout",
          "text": [
            "Encrypted: b'gAAAAABo-KcuV_COXoyAOwsspd5JeoHVpprQtt4DcJb5DwCUdA86xvlqAbHs9Tmjvru6l-mtveIRi9RXuiru82kf2fmwguuftg=='\n",
            "Decrypted: I am different\n"
          ]
        }
      ],
      "source": [
        "from cryptography.fernet import Fernet\n",
        "key = Fernet.generate_key()\n",
        "cipher = Fernet(key)\n",
        "message = b\"I am different\"\n",
        "encrypted_message = cipher.encrypt(message)\n",
        "print(\"Encrypted:\", encrypted_message)\n",
        "decrypted_message = cipher.decrypt(encrypted_message)\n",
        "print(\"Decrypted:\", decrypted_message.decode())"
      ]
    },
    {
      "cell_type": "code",
      "source": [
        "from cryptography.fernet import Fernet\n",
        "key = Fernet.generate_key()\n",
        "cipher = Fernet(key)\n",
        "message = b\"I am dfferent\"\n",
        "encrypted_message = cipher.encrypt(message)\n",
        "print(\"Encrypted:\", encrypted_message)\n",
        "decrypted_message = cipher.decrypt(encrypted_message)\n",
        "print(\"Decrypted:\", decrypted_message.decode())"
      ],
      "metadata": {
        "colab": {
          "base_uri": "https://localhost:8080/"
        },
        "id": "ofYdmGsiSzxX",
        "outputId": "cb1a978c-e9a9-4f79-9bd0-edc304860cdc"
      },
      "execution_count": null,
      "outputs": [
        {
          "output_type": "stream",
          "name": "stdout",
          "text": [
            "Encrypted: b'gAAAAABo-Kg5cRdkArLa84q5WEPtWtBLRsHZs8oNiufrzYiheyu_wZ2Uig5-WXz4wDYr30SWGy8UNGVr0Xr7spQAG96KUMPwaw=='\n",
            "Decrypted: I am dfferent\n"
          ]
        }
      ]
    },
    {
      "cell_type": "code",
      "source": [
        "from Crypto.Cipher import PKCS1_OAEP\n",
        "from Crypto.PublicKey import RSA\n",
        "\n",
        "# Step 1: Generate public and private keys\n",
        "key = RSA.generate(2048)\n",
        "public_key = key.publickey()\n",
        "\n",
        "# Step 2: Encrypt a message using the public key\n",
        "cipher = PKCS1_OAEP.new(public_key)\n",
        "message = b\"Confidential student data\"\n",
        "encrypted = cipher.encrypt(message)\n",
        "print(\"Encrypted:\", encrypted)\n",
        "\n",
        "# Step 3: Decrypt using private key\n",
        "decrypt_cipher = PKCS1_OAEP.new(key)\n",
        "decrypted = decrypt_cipher.decrypt(encrypted)\n",
        "print(\"Decrypted:\", decrypted.decode())"
      ],
      "metadata": {
        "colab": {
          "base_uri": "https://localhost:8080/"
        },
        "id": "gD_gUn94t0vf",
        "outputId": "968ea9dd-0519-4a71-83af-bc75f4e2f59e"
      },
      "execution_count": 4,
      "outputs": [
        {
          "output_type": "stream",
          "name": "stdout",
          "text": [
            "Encrypted: b'J\"q6h\\xe8\\xc2\\xbb\\x11z\\x1e%i\\xdb\\xdf\\xf5\\xafl\\x92\\xd3\\n\\xfb\\xff\\x9d\\xe9\\x87\\xe9B9\\xba\\x03\\x11vW548\\xa5\\xca\\x86\\xf0\\ro|\\xd0\\xb5\\x9a\\xbdR\\x02)p\\xb9\\xdcYT\\x15hxEd\\x12KY\\xd2$i\\xddBj\\xcf\\x03\\xf9o\\x98\\x15XJ\\x159H->\\x96\\xc1\\x19\\x99\\xddte\\x12\\xf3?\\x9f\\xa6-\\xc6o\\xb9S\\x82\\x1cH\\xe2?\\x14\\xa2\\xd4\\xe0\\x99~\\xe0\\xc1w9\\xf9\\xf8\\x89\\x072\\x08\\x14a\\xd4\\x90\\x0b\\xa8\\x1d\\x82g\\xcb\\xaf\\xa8\\xdb\\xac\\xfa\\nR\\x83\\x90F\\xb1\\x04\\xf8Y\\xb6\\x156\\xf8Se\\xcc\\x99\\x97cS\\x00\\x86\\xdf\\xfaSA\\x10\\xefN\\xf3\\x03\\x85\\x96T\\xb5(\\xc4\\xbc3\\x8dz<\\xedZ,{\\xa3\\x833\\x1ds\\x84?E;\\xa6\\xb1C/\\x19t\\xa5\\x94n\\x198\\x8e\\x16TKP\\xcd\\xe3j\\xb3\\x19\\x8b\\xe8\\r\\x05cY\\xe7H\\x02\\xe5x\\xfe\\x19\\xe9%\\x0193:\\xe0\\x0c\\xbc.\\xd6\\xe9qu\\x87\\xec\\xb3\\xef\\x91y\\xad\\x84(\\xe5cX\\xcc\\x13\\x16sK'\n",
            "Decrypted: Confidential student data\n"
          ]
        }
      ]
    },
    {
      "cell_type": "code",
      "metadata": {
        "colab": {
          "base_uri": "https://localhost:8080/"
        },
        "id": "0a9cd63f",
        "outputId": "4bd7b597-5066-433e-9dc4-fc3be26ea6be"
      },
      "source": [
        "!pip install pycryptodome"
      ],
      "execution_count": 3,
      "outputs": [
        {
          "output_type": "stream",
          "name": "stdout",
          "text": [
            "Collecting pycryptodome\n",
            "  Downloading pycryptodome-3.23.0-cp37-abi3-manylinux_2_17_x86_64.manylinux2014_x86_64.whl.metadata (3.4 kB)\n",
            "Downloading pycryptodome-3.23.0-cp37-abi3-manylinux_2_17_x86_64.manylinux2014_x86_64.whl (2.3 MB)\n",
            "\u001b[2K   \u001b[90m━━━━━━━━━━━━━━━━━━━━━━━━━━━━━━━━━━━━━━━━\u001b[0m \u001b[32m2.3/2.3 MB\u001b[0m \u001b[31m24.4 MB/s\u001b[0m eta \u001b[36m0:00:00\u001b[0m\n",
            "\u001b[?25hInstalling collected packages: pycryptodome\n",
            "Successfully installed pycryptodome-3.23.0\n"
          ]
        }
      ]
    },
    {
      "cell_type": "markdown",
      "metadata": {
        "id": "b29a5401"
      },
      "source": [
        "After the installation is complete, you can run the previous cell again."
      ]
    }
  ]
}